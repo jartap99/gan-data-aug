{
 "cells": [
  {
   "cell_type": "code",
   "execution_count": 1,
   "metadata": {},
   "outputs": [
    {
     "name": "stdout",
     "output_type": "stream",
     "text": [
      "2.4.1\n"
     ]
    }
   ],
   "source": [
    "import numpy as np\n",
    "import tensorflow as tf\n",
    "import matplotlib.pyplot as plt\n",
    "import tensorflow_datasets as tfds\n",
    "print(tf.__version__)"
   ]
  },
  {
   "cell_type": "code",
   "execution_count": null,
   "metadata": {},
   "outputs": [],
   "source": [
    "train_ds = tfds.load('colorectal_histology', split='train[:80%]', shuffle_files=True, as_supervised=True)\n",
    "train_ds = train_ds.batch(32)\n",
    "train_ds = train_ds.map(lambda img, label: (tf.image.convert_image_dtype(img,dtype=tf.float32), label))"
   ]
  },
  {
   "cell_type": "code",
   "execution_count": null,
   "metadata": {},
   "outputs": [],
   "source": [
    "val_ds = tfds.load('colorectal_histology', split='train[80%:90%]', shuffle_files=True, as_supervised=True)\n",
    "val_ds = val_ds.batch(32)\n",
    "val_ds = val_ds.map(lambda img, label: (tf.image.convert_image_dtype(img,dtype=tf.float32), label))"
   ]
  },
  {
   "cell_type": "code",
   "execution_count": null,
   "metadata": {},
   "outputs": [],
   "source": [
    "test_ds = tfds.load('colorectal_histology', split='train[90%:100%]', shuffle_files=True, as_supervised=True)\n",
    "test_ds = test_ds.batch(32)\n",
    "test_ds = test_ds.map(lambda img, label: (tf.image.convert_image_dtype(img,dtype=tf.float32), label))"
   ]
  },
  {
   "cell_type": "code",
   "execution_count": 2,
   "metadata": {},
   "outputs": [],
   "source": [
    "train_ds, val_ds, test_ds = tfds.load('colorectal_histology', split=['train[:80%]','train[80%:90%]','train[90%:100%]'], shuffle_files=True, as_supervised=True)\n",
    "train_ds = train_ds.batch(32)\n",
    "train_ds = train_ds.map(lambda img, label: (tf.image.convert_image_dtype(img,dtype=tf.float32), label))\n",
    "val_ds = val_ds.batch(32)\n",
    "val_ds = val_ds.map(lambda img, label: (tf.image.convert_image_dtype(img,dtype=tf.float32), label))\n",
    "test_ds = test_ds.batch(32)\n",
    "test_ds = test_ds.map(lambda img, label: (tf.image.convert_image_dtype(img,dtype=tf.float32), label))"
   ]
  },
  {
   "cell_type": "code",
   "execution_count": 3,
   "metadata": {},
   "outputs": [
    {
     "name": "stdout",
     "output_type": "stream",
     "text": [
      "Model: \"sequential\"\n",
      "_________________________________________________________________\n",
      "Layer (type)                 Output Shape              Param #   \n",
      "=================================================================\n",
      "flatten (Flatten)            (None, 67500)             0         \n",
      "_________________________________________________________________\n",
      "dense (Dense)                (None, 128)               8640128   \n",
      "_________________________________________________________________\n",
      "dense_1 (Dense)              (None, 10)                1290      \n",
      "=================================================================\n",
      "Total params: 8,641,418\n",
      "Trainable params: 8,641,418\n",
      "Non-trainable params: 0\n",
      "_________________________________________________________________\n"
     ]
    }
   ],
   "source": [
    "customModel = tf.keras.models.Sequential([\n",
    "  tf.keras.layers.Flatten(input_shape=(150, 150, 3)),\n",
    "  tf.keras.layers.Dense(128,activation='relu'),\n",
    "  tf.keras.layers.Dense(10)\n",
    "])\n",
    "customModel.compile(\n",
    "    optimizer=tf.keras.optimizers.Adam(0.001),\n",
    "    loss=tf.keras.losses.SparseCategoricalCrossentropy(from_logits=True),\n",
    "    metrics=[tf.keras.metrics.SparseCategoricalAccuracy()],\n",
    ")\n",
    "customModel.summary()"
   ]
  },
  {
   "cell_type": "code",
   "execution_count": 4,
   "metadata": {
    "scrolled": true
   },
   "outputs": [
    {
     "name": "stdout",
     "output_type": "stream",
     "text": [
      "Epoch 1/10\n",
      "125/125 [==============================] - 5s 40ms/step - loss: 29.4184 - sparse_categorical_accuracy: 0.1885 - val_loss: 4.4191 - val_sparse_categorical_accuracy: 0.2640\n",
      "Epoch 2/10\n",
      "125/125 [==============================] - 5s 36ms/step - loss: 4.1430 - sparse_categorical_accuracy: 0.3358 - val_loss: 3.7383 - val_sparse_categorical_accuracy: 0.3380\n",
      "Epoch 3/10\n",
      "125/125 [==============================] - 5s 37ms/step - loss: 3.1154 - sparse_categorical_accuracy: 0.3801 - val_loss: 3.2498 - val_sparse_categorical_accuracy: 0.2720\n",
      "Epoch 4/10\n",
      "125/125 [==============================] - 5s 42ms/step - loss: 2.3904 - sparse_categorical_accuracy: 0.4185 - val_loss: 1.7761 - val_sparse_categorical_accuracy: 0.4040\n",
      "Epoch 5/10\n",
      "125/125 [==============================] - 5s 40ms/step - loss: 2.2665 - sparse_categorical_accuracy: 0.4570 - val_loss: 2.9370 - val_sparse_categorical_accuracy: 0.3560\n",
      "Epoch 6/10\n",
      "125/125 [==============================] - 5s 40ms/step - loss: 2.2820 - sparse_categorical_accuracy: 0.4485 - val_loss: 1.4858 - val_sparse_categorical_accuracy: 0.4420\n",
      "Epoch 7/10\n",
      "125/125 [==============================] - 5s 40ms/step - loss: 1.6507 - sparse_categorical_accuracy: 0.4998 - val_loss: 1.9087 - val_sparse_categorical_accuracy: 0.3960\n",
      "Epoch 8/10\n",
      "125/125 [==============================] - 6s 48ms/step - loss: 1.5425 - sparse_categorical_accuracy: 0.5286 - val_loss: 1.2903 - val_sparse_categorical_accuracy: 0.5120\n",
      "Epoch 9/10\n",
      "125/125 [==============================] - 6s 45ms/step - loss: 1.6501 - sparse_categorical_accuracy: 0.5290 - val_loss: 1.6725 - val_sparse_categorical_accuracy: 0.4740\n",
      "Epoch 10/10\n",
      "125/125 [==============================] - 5s 42ms/step - loss: 1.2023 - sparse_categorical_accuracy: 0.5585 - val_loss: 1.3822 - val_sparse_categorical_accuracy: 0.4960\n"
     ]
    }
   ],
   "source": [
    "customModelHistory = customModel.fit(\n",
    "    train_ds,\n",
    "    epochs=10,\n",
    "    validation_data=val_ds,\n",
    ")"
   ]
  },
  {
   "cell_type": "code",
   "execution_count": 7,
   "metadata": {},
   "outputs": [
    {
     "name": "stdout",
     "output_type": "stream",
     "text": [
      "[0.2639999985694885, 0.33799999952316284, 0.2720000147819519, 0.40400001406669617, 0.35600000619888306, 0.44200000166893005, 0.3959999978542328, 0.5120000243186951, 0.4740000069141388, 0.4959999918937683]\n"
     ]
    }
   ],
   "source": [
    "print(customModelHistory.history['val_sparse_categorical_accuracy'])"
   ]
  },
  {
   "cell_type": "code",
   "execution_count": 8,
   "metadata": {},
   "outputs": [
    {
     "name": "stdout",
     "output_type": "stream",
     "text": [
      "Model: \"vgg16\"\n",
      "_________________________________________________________________\n",
      "Layer (type)                 Output Shape              Param #   \n",
      "=================================================================\n",
      "input_1 (InputLayer)         [(None, 150, 150, 3)]     0         \n",
      "_________________________________________________________________\n",
      "block1_conv1 (Conv2D)        (None, 150, 150, 64)      1792      \n",
      "_________________________________________________________________\n",
      "block1_conv2 (Conv2D)        (None, 150, 150, 64)      36928     \n",
      "_________________________________________________________________\n",
      "block1_pool (MaxPooling2D)   (None, 75, 75, 64)        0         \n",
      "_________________________________________________________________\n",
      "block2_conv1 (Conv2D)        (None, 75, 75, 128)       73856     \n",
      "_________________________________________________________________\n",
      "block2_conv2 (Conv2D)        (None, 75, 75, 128)       147584    \n",
      "_________________________________________________________________\n",
      "block2_pool (MaxPooling2D)   (None, 37, 37, 128)       0         \n",
      "_________________________________________________________________\n",
      "block3_conv1 (Conv2D)        (None, 37, 37, 256)       295168    \n",
      "_________________________________________________________________\n",
      "block3_conv2 (Conv2D)        (None, 37, 37, 256)       590080    \n",
      "_________________________________________________________________\n",
      "block3_conv3 (Conv2D)        (None, 37, 37, 256)       590080    \n",
      "_________________________________________________________________\n",
      "block3_pool (MaxPooling2D)   (None, 18, 18, 256)       0         \n",
      "_________________________________________________________________\n",
      "block4_conv1 (Conv2D)        (None, 18, 18, 512)       1180160   \n",
      "_________________________________________________________________\n",
      "block4_conv2 (Conv2D)        (None, 18, 18, 512)       2359808   \n",
      "_________________________________________________________________\n",
      "block4_conv3 (Conv2D)        (None, 18, 18, 512)       2359808   \n",
      "_________________________________________________________________\n",
      "block4_pool (MaxPooling2D)   (None, 9, 9, 512)         0         \n",
      "_________________________________________________________________\n",
      "block5_conv1 (Conv2D)        (None, 9, 9, 512)         2359808   \n",
      "_________________________________________________________________\n",
      "block5_conv2 (Conv2D)        (None, 9, 9, 512)         2359808   \n",
      "_________________________________________________________________\n",
      "block5_conv3 (Conv2D)        (None, 9, 9, 512)         2359808   \n",
      "_________________________________________________________________\n",
      "block5_pool (MaxPooling2D)   (None, 4, 4, 512)         0         \n",
      "_________________________________________________________________\n",
      "flatten (Flatten)            (None, 8192)              0         \n",
      "_________________________________________________________________\n",
      "fc1 (Dense)                  (None, 4096)              33558528  \n",
      "_________________________________________________________________\n",
      "fc2 (Dense)                  (None, 4096)              16781312  \n",
      "_________________________________________________________________\n",
      "predictions (Dense)          (None, 1000)              4097000   \n",
      "=================================================================\n",
      "Total params: 69,151,528\n",
      "Trainable params: 69,151,528\n",
      "Non-trainable params: 0\n",
      "_________________________________________________________________\n"
     ]
    }
   ],
   "source": [
    "vggModel = tf.keras.applications.VGG16(\n",
    "    weights=None, input_shape=(150,150,3)\n",
    ")\n",
    "vggModel.compile(loss='sparse_categorical_crossentropy',optimizer='adam',metrics=['sparse_categorical_accuracy'])\n",
    "vggModel.summary()"
   ]
  },
  {
   "cell_type": "code",
   "execution_count": 10,
   "metadata": {},
   "outputs": [
    {
     "name": "stdout",
     "output_type": "stream",
     "text": [
      "125/125 [==============================] - 1378s 11s/step - loss: 3.3491 - sparse_categorical_accuracy: 0.1141 - val_loss: 2.1281 - val_sparse_categorical_accuracy: 0.0900\n"
     ]
    }
   ],
   "source": [
    "vggModelHistory = vggModel.fit(\n",
    "    train_ds,\n",
    "    epochs=1,\n",
    "    validation_data=val_ds,\n",
    ")"
   ]
  }
 ],
 "metadata": {
  "kernelspec": {
   "display_name": "venv_cs221_project",
   "language": "python",
   "name": "venv_cs221_project"
  },
  "language_info": {
   "codemirror_mode": {
    "name": "ipython",
    "version": 3
   },
   "file_extension": ".py",
   "mimetype": "text/x-python",
   "name": "python",
   "nbconvert_exporter": "python",
   "pygments_lexer": "ipython3",
   "version": "3.8.5"
  }
 },
 "nbformat": 4,
 "nbformat_minor": 4
}
